{
 "cells": [
  {
   "cell_type": "code",
   "execution_count": 1,
   "id": "8bd16cfa-a07e-405f-88d1-e9d650793bc2",
   "metadata": {
    "scrolled": true
   },
   "outputs": [
    {
     "name": "stdout",
     "output_type": "stream",
     "text": [
      "Requirement already satisfied: numpy in ./libs/lib/python3.10/site-packages (1.26.4)\n",
      "Requirement already satisfied: pandas in ./libs/lib/python3.10/site-packages (2.2.2)\n",
      "Requirement already satisfied: matplotlib in ./libs/lib/python3.10/site-packages (3.8.4)\n",
      "Requirement already satisfied: seaborn in ./libs/lib/python3.10/site-packages (0.13.2)\n",
      "Requirement already satisfied: pytz>=2020.1 in ./libs/lib/python3.10/site-packages (from pandas) (2024.1)\n",
      "Requirement already satisfied: python-dateutil>=2.8.2 in ./libs/lib/python3.10/site-packages (from pandas) (2.9.0.post0)\n",
      "Requirement already satisfied: tzdata>=2022.7 in ./libs/lib/python3.10/site-packages (from pandas) (2024.1)\n",
      "Requirement already satisfied: pyparsing>=2.3.1 in ./libs/lib/python3.10/site-packages (from matplotlib) (3.1.2)\n",
      "Requirement already satisfied: cycler>=0.10 in ./libs/lib/python3.10/site-packages (from matplotlib) (0.12.1)\n",
      "Requirement already satisfied: pillow>=8 in ./libs/lib/python3.10/site-packages (from matplotlib) (10.3.0)\n",
      "Requirement already satisfied: packaging>=20.0 in ./libs/lib/python3.10/site-packages (from matplotlib) (24.0)\n",
      "Requirement already satisfied: kiwisolver>=1.3.1 in ./libs/lib/python3.10/site-packages (from matplotlib) (1.4.5)\n",
      "Requirement already satisfied: fonttools>=4.22.0 in ./libs/lib/python3.10/site-packages (from matplotlib) (4.51.0)\n",
      "Requirement already satisfied: contourpy>=1.0.1 in ./libs/lib/python3.10/site-packages (from matplotlib) (1.2.1)\n",
      "Requirement already satisfied: six>=1.5 in ./libs/lib/python3.10/site-packages (from python-dateutil>=2.8.2->pandas) (1.16.0)\n"
     ]
    }
   ],
   "source": [
    "!pip install numpy pandas matplotlib seaborn"
   ]
  },
  {
   "cell_type": "code",
   "execution_count": 2,
   "id": "032e5802-2476-4128-bdc0-e34350b09040",
   "metadata": {},
   "outputs": [
    {
     "name": "stdout",
     "output_type": "stream",
     "text": [
      "[4 3 9 9 5 6]\n",
      "[[5 4 8 6 6 4 3 2 3]\n",
      " [1 8 1 9 7 1 5 4 3]\n",
      " [6 9 7 8 1 1 2 9 4]\n",
      " [8 9 3 8 1 9 3 1 2]\n",
      " [2 6 9 7 2 3 9 7 9]\n",
      " [5 8 2 5 8 4 1 2 3]\n",
      " [1 6 8 6 9 8 3 7 5]\n",
      " [1 6 5 2 1 3 4 2 4]\n",
      " [5 6 2 3 3 6 6 4 8]]\n",
      "[[[7 6 6]\n",
      "  [9 2 9]\n",
      "  [5 4 6]]\n",
      "\n",
      " [[2 3 1]\n",
      "  [6 2 5]\n",
      "  [4 1 7]]\n",
      "\n",
      " [[1 3 7]\n",
      "  [5 8 4]\n",
      "  [4 3 8]]\n",
      "\n",
      " [[6 2 7]\n",
      "  [7 5 2]\n",
      "  [9 8 3]]\n",
      "\n",
      " [[8 2 6]\n",
      "  [4 9 9]\n",
      "  [1 9 1]]\n",
      "\n",
      " [[2 4 8]\n",
      "  [3 7 6]\n",
      "  [6 5 3]]]\n"
     ]
    }
   ],
   "source": [
    "import numpy as np #This is how we import the numpy.\n",
    "\n",
    "x1 = np.random.randint(1,10, size=6) # One-diensional array\n",
    "x2 = np.random.randint(1,10, size=(9,9))#Two-dimensional array. it tells that 9 rows and 9columns need tobe there.\n",
    "x3 = np.random.randint(1,10, size=(6,3,3))#Three-dimensional array. it tells 6 tables will be generated with 3 rows and 3 columns. Take time and explain.\n",
    "\n",
    "print(x1)\n",
    "print(x2)\n",
    "print(x3)\n"
   ]
  },
  {
   "cell_type": "code",
   "execution_count": 3,
   "id": "a975a76d-8bb0-476a-98b1-4a63dd187454",
   "metadata": {},
   "outputs": [
    {
     "data": {
      "text/plain": [
       "array([4, 3, 9, 9, 5, 6])"
      ]
     },
     "execution_count": 3,
     "metadata": {},
     "output_type": "execute_result"
    }
   ],
   "source": [
    "x1"
   ]
  },
  {
   "cell_type": "code",
   "execution_count": 4,
   "id": "eaff17ca-b8cb-4c04-9f78-e3ff766994be",
   "metadata": {},
   "outputs": [
    {
     "data": {
      "text/plain": [
       "array([[5, 4, 8, 6, 6, 4, 3, 2, 3]])"
      ]
     },
     "execution_count": 4,
     "metadata": {},
     "output_type": "execute_result"
    }
   ],
   "source": [
    "x2[0:1]"
   ]
  },
  {
   "cell_type": "markdown",
   "id": "a4410093-0763-4f95-b3cf-6de5df38c3d8",
   "metadata": {},
   "source": [
    "x2"
   ]
  },
  {
   "cell_type": "code",
   "execution_count": 5,
   "id": "c18a8969-8b00-4ac3-914f-c2bab993ddfb",
   "metadata": {},
   "outputs": [
    {
     "data": {
      "text/plain": [
       "array([[5, 4, 8, 6, 6, 4, 3, 2, 3],\n",
       "       [1, 8, 1, 9, 7, 1, 5, 4, 3],\n",
       "       [6, 9, 7, 8, 1, 1, 2, 9, 4],\n",
       "       [8, 9, 3, 8, 1, 9, 3, 1, 2],\n",
       "       [2, 6, 9, 7, 2, 3, 9, 7, 9],\n",
       "       [5, 8, 2, 5, 8, 4, 1, 2, 3],\n",
       "       [1, 6, 8, 6, 9, 8, 3, 7, 5],\n",
       "       [1, 6, 5, 2, 1, 3, 4, 2, 4],\n",
       "       [5, 6, 2, 3, 3, 6, 6, 4, 8]])"
      ]
     },
     "execution_count": 5,
     "metadata": {},
     "output_type": "execute_result"
    }
   ],
   "source": [
    "x2"
   ]
  },
  {
   "cell_type": "code",
   "execution_count": 6,
   "id": "f7683410-8080-4be8-a63a-efa3b76e7869",
   "metadata": {},
   "outputs": [
    {
     "data": {
      "text/plain": [
       "array([[[7, 6, 6],\n",
       "        [9, 2, 9],\n",
       "        [5, 4, 6]],\n",
       "\n",
       "       [[2, 3, 1],\n",
       "        [6, 2, 5],\n",
       "        [4, 1, 7]],\n",
       "\n",
       "       [[1, 3, 7],\n",
       "        [5, 8, 4],\n",
       "        [4, 3, 8]],\n",
       "\n",
       "       [[6, 2, 7],\n",
       "        [7, 5, 2],\n",
       "        [9, 8, 3]],\n",
       "\n",
       "       [[8, 2, 6],\n",
       "        [4, 9, 9],\n",
       "        [1, 9, 1]],\n",
       "\n",
       "       [[2, 4, 8],\n",
       "        [3, 7, 6],\n",
       "        [6, 5, 3]]])"
      ]
     },
     "execution_count": 6,
     "metadata": {},
     "output_type": "execute_result"
    }
   ],
   "source": [
    "x3"
   ]
  },
  {
   "cell_type": "code",
   "execution_count": 7,
   "id": "2f228e83-b7a1-4fe4-9caa-1410722009f4",
   "metadata": {},
   "outputs": [
    {
     "data": {
      "text/plain": [
       "array([[[5]]])"
      ]
     },
     "execution_count": 7,
     "metadata": {},
     "output_type": "execute_result"
    }
   ],
   "source": [
    "x3[2:3:2, 1:2, 0:1]"
   ]
  },
  {
   "cell_type": "code",
   "execution_count": 8,
   "id": "aa51262e-f9d6-47e8-bfb9-a63f2e17be38",
   "metadata": {},
   "outputs": [],
   "source": [
    "x3_copy=x3[2:3:2, 1:2]"
   ]
  },
  {
   "cell_type": "code",
   "execution_count": 9,
   "id": "2abfe23a-89f3-430f-a831-732c03bfdf4e",
   "metadata": {},
   "outputs": [
    {
     "data": {
      "text/plain": [
       "array([[[5, 8, 4]]])"
      ]
     },
     "execution_count": 9,
     "metadata": {},
     "output_type": "execute_result"
    }
   ],
   "source": [
    "x3_copy"
   ]
  },
  {
   "cell_type": "code",
   "execution_count": 10,
   "id": "68029453-480c-4d1a-9261-bbe3fedc9b2f",
   "metadata": {},
   "outputs": [
    {
     "data": {
      "text/plain": [
       "array([[[23,  8,  4]]])"
      ]
     },
     "execution_count": 10,
     "metadata": {},
     "output_type": "execute_result"
    }
   ],
   "source": [
    "x3_copy[0,0,0]=23\n",
    "x3_copy"
   ]
  },
  {
   "cell_type": "code",
   "execution_count": 11,
   "id": "d1d75643-c593-4c68-8952-7a07430bce27",
   "metadata": {},
   "outputs": [
    {
     "data": {
      "text/plain": [
       "23"
      ]
     },
     "execution_count": 11,
     "metadata": {},
     "output_type": "execute_result"
    }
   ],
   "source": [
    "x3_copy[0,0,0]"
   ]
  },
  {
   "cell_type": "code",
   "execution_count": 12,
   "id": "5b374ac6-cfa3-4494-a5f6-d0df56bd7153",
   "metadata": {},
   "outputs": [
    {
     "name": "stdout",
     "output_type": "stream",
     "text": [
      "[[5 4]\n",
      " [1 8]]\n"
     ]
    }
   ],
   "source": [
    "x2_sub_copy=x2[:2,:2].copy()\n",
    "print(x2_sub_copy)"
   ]
  },
  {
   "cell_type": "code",
   "execution_count": 13,
   "id": "4e4c87a3-ccb6-402a-a41d-bc397c04ef8a",
   "metadata": {},
   "outputs": [
    {
     "data": {
      "text/plain": [
       "array([[33,  4],\n",
       "       [ 1,  8]])"
      ]
     },
     "execution_count": 13,
     "metadata": {},
     "output_type": "execute_result"
    }
   ],
   "source": [
    "x2_sub_copy[0,0]=33\n",
    "x2_sub_copy"
   ]
  },
  {
   "cell_type": "code",
   "execution_count": 14,
   "id": "483bc6ca-bba5-46bb-b4a5-900459cbeff0",
   "metadata": {},
   "outputs": [
    {
     "data": {
      "text/plain": [
       "array([[1, 2],\n",
       "       [3, 4],\n",
       "       [5, 6]])"
      ]
     },
     "execution_count": 14,
     "metadata": {},
     "output_type": "execute_result"
    }
   ],
   "source": [
    "data = np.array([[1,2],[3,4],[5,6]])\n",
    "data"
   ]
  },
  {
   "cell_type": "code",
   "execution_count": 15,
   "id": "fbb4fc0d-675f-4651-9a73-73b049b72c4b",
   "metadata": {},
   "outputs": [
    {
     "data": {
      "text/plain": [
       "array([[1, 2, 3],\n",
       "       [4, 5, 6]])"
      ]
     },
     "execution_count": 15,
     "metadata": {},
     "output_type": "execute_result"
    }
   ],
   "source": [
    "data.reshape(2,3)"
   ]
  },
  {
   "cell_type": "code",
   "execution_count": 16,
   "id": "0bf8484d-af3f-40d4-b305-93b26f35359e",
   "metadata": {},
   "outputs": [
    {
     "data": {
      "text/plain": [
       "array([[1, 3, 5],\n",
       "       [2, 4, 6]])"
      ]
     },
     "execution_count": 16,
     "metadata": {},
     "output_type": "execute_result"
    }
   ],
   "source": [
    "data.transpose()"
   ]
  },
  {
   "cell_type": "code",
   "execution_count": 17,
   "id": "aabaf6f0-662d-4781-8619-7c472205217c",
   "metadata": {},
   "outputs": [
    {
     "data": {
      "text/plain": [
       "array([[1, 3, 5],\n",
       "       [2, 4, 6]])"
      ]
     },
     "execution_count": 17,
     "metadata": {},
     "output_type": "execute_result"
    }
   ],
   "source": [
    "data.T"
   ]
  },
  {
   "cell_type": "code",
   "execution_count": 18,
   "id": "518e3b1b-178a-43c5-a1ee-c6a27c100d2f",
   "metadata": {},
   "outputs": [
    {
     "data": {
      "text/plain": [
       "array([[1, 2, 3]])"
      ]
     },
     "execution_count": 18,
     "metadata": {},
     "output_type": "execute_result"
    }
   ],
   "source": [
    "x=np.array([1,2,3])\n",
    "\n",
    "#roe vector via reshape\n",
    "x.reshape((1,3))"
   ]
  },
  {
   "cell_type": "code",
   "execution_count": 19,
   "id": "07518c09-6bcc-4fe1-b772-4020cf559726",
   "metadata": {},
   "outputs": [
    {
     "data": {
      "text/plain": [
       "array([[1, 2, 3]])"
      ]
     },
     "execution_count": 19,
     "metadata": {},
     "output_type": "execute_result"
    }
   ],
   "source": [
    "# row vector via newaxis\n",
    "x[np.newaxis,:]"
   ]
  },
  {
   "cell_type": "code",
   "execution_count": 20,
   "id": "f471fb3f-b8e1-4a44-b9a4-d738edf96c4c",
   "metadata": {},
   "outputs": [
    {
     "data": {
      "text/plain": [
       "array([6, 5, 7, 4, 8, 7, 8, 4, 5, 3, 5, 7, 1, 1, 4, 8, 1, 2, 8, 2, 6, 4,\n",
       "       6, 6, 9, 5, 8, 2, 5, 4, 6, 2, 1, 9, 6, 5, 9, 4, 2, 1, 4, 6, 3, 8,\n",
       "       1, 7, 8, 6, 8, 5, 9, 9, 6, 2, 7, 3, 6, 1, 5, 7, 8, 2, 9, 4, 4, 6,\n",
       "       7, 6, 4, 3])"
      ]
     },
     "execution_count": 20,
     "metadata": {},
     "output_type": "execute_result"
    }
   ],
   "source": [
    "x4=np.random.randint(1,10,size=70)\n",
    "x4"
   ]
  },
  {
   "cell_type": "code",
   "execution_count": 21,
   "id": "dd5b1e95-0e45-4558-a3bc-70a0e8020680",
   "metadata": {},
   "outputs": [
    {
     "data": {
      "text/plain": [
       "array([[6],\n",
       "       [5],\n",
       "       [7],\n",
       "       [4],\n",
       "       [8],\n",
       "       [7],\n",
       "       [8],\n",
       "       [4],\n",
       "       [5],\n",
       "       [3],\n",
       "       [5],\n",
       "       [7],\n",
       "       [1],\n",
       "       [1],\n",
       "       [4],\n",
       "       [8],\n",
       "       [1],\n",
       "       [2],\n",
       "       [8],\n",
       "       [2],\n",
       "       [6],\n",
       "       [4],\n",
       "       [6],\n",
       "       [6],\n",
       "       [9],\n",
       "       [5],\n",
       "       [8],\n",
       "       [2],\n",
       "       [5],\n",
       "       [4],\n",
       "       [6],\n",
       "       [2],\n",
       "       [1],\n",
       "       [9],\n",
       "       [6],\n",
       "       [5],\n",
       "       [9],\n",
       "       [4],\n",
       "       [2],\n",
       "       [1],\n",
       "       [4],\n",
       "       [6],\n",
       "       [3],\n",
       "       [8],\n",
       "       [1],\n",
       "       [7],\n",
       "       [8],\n",
       "       [6],\n",
       "       [8],\n",
       "       [5],\n",
       "       [9],\n",
       "       [9],\n",
       "       [6],\n",
       "       [2],\n",
       "       [7],\n",
       "       [3],\n",
       "       [6],\n",
       "       [1],\n",
       "       [5],\n",
       "       [7],\n",
       "       [8],\n",
       "       [2],\n",
       "       [9],\n",
       "       [4],\n",
       "       [4],\n",
       "       [6],\n",
       "       [7],\n",
       "       [6],\n",
       "       [4],\n",
       "       [3]])"
      ]
     },
     "execution_count": 21,
     "metadata": {},
     "output_type": "execute_result"
    }
   ],
   "source": [
    "# colum vector via newaxis\n",
    "x4[:,np.newaxis]"
   ]
  },
  {
   "cell_type": "code",
   "execution_count": 22,
   "id": "a27baa4b-ffc3-44a7-b576-32b9563960cf",
   "metadata": {},
   "outputs": [
    {
     "data": {
      "text/plain": [
       "array([[6],\n",
       "       [5],\n",
       "       [7],\n",
       "       [4],\n",
       "       [8],\n",
       "       [7],\n",
       "       [8],\n",
       "       [4],\n",
       "       [5],\n",
       "       [3],\n",
       "       [5],\n",
       "       [7],\n",
       "       [1],\n",
       "       [1],\n",
       "       [4],\n",
       "       [8],\n",
       "       [1],\n",
       "       [2],\n",
       "       [8],\n",
       "       [2],\n",
       "       [6],\n",
       "       [4],\n",
       "       [6],\n",
       "       [6],\n",
       "       [9],\n",
       "       [5],\n",
       "       [8],\n",
       "       [2],\n",
       "       [5],\n",
       "       [4],\n",
       "       [6],\n",
       "       [2],\n",
       "       [1],\n",
       "       [9],\n",
       "       [6],\n",
       "       [5],\n",
       "       [9],\n",
       "       [4],\n",
       "       [2],\n",
       "       [1],\n",
       "       [4],\n",
       "       [6],\n",
       "       [3],\n",
       "       [8],\n",
       "       [1],\n",
       "       [7],\n",
       "       [8],\n",
       "       [6],\n",
       "       [8],\n",
       "       [5],\n",
       "       [9],\n",
       "       [9],\n",
       "       [6],\n",
       "       [2],\n",
       "       [7],\n",
       "       [3],\n",
       "       [6],\n",
       "       [1],\n",
       "       [5],\n",
       "       [7],\n",
       "       [8],\n",
       "       [2],\n",
       "       [9],\n",
       "       [4],\n",
       "       [4],\n",
       "       [6],\n",
       "       [7],\n",
       "       [6],\n",
       "       [4],\n",
       "       [3]])"
      ]
     },
     "execution_count": 22,
     "metadata": {},
     "output_type": "execute_result"
    }
   ],
   "source": [
    "x4[0:70,np.newaxis]"
   ]
  },
  {
   "cell_type": "code",
   "execution_count": 23,
   "id": "cb66c22b-9b4c-472f-b3d9-1fa156dbc5b2",
   "metadata": {},
   "outputs": [
    {
     "data": {
      "text/plain": [
       "array([1, 2, 3, 3, 2, 1])"
      ]
     },
     "execution_count": 23,
     "metadata": {},
     "output_type": "execute_result"
    }
   ],
   "source": [
    "x =np.array([1,2,3])\n",
    "y =np.array([3,2,1])\n",
    "np.concatenate([x,y])"
   ]
  },
  {
   "cell_type": "code",
   "execution_count": 24,
   "id": "cf91b942-3ba2-4e2c-8c41-6a73bda7fe17",
   "metadata": {},
   "outputs": [
    {
     "name": "stdout",
     "output_type": "stream",
     "text": [
      "[ 1  2  3  3  2  1 99 99 99]\n"
     ]
    }
   ],
   "source": [
    "z=[99,99,99]\n",
    "print(np.concatenate([x,y,z]))"
   ]
  },
  {
   "cell_type": "code",
   "execution_count": 25,
   "id": "de86670b-4be6-411e-b549-88f90a429f7f",
   "metadata": {},
   "outputs": [],
   "source": [
    "grid=np.array([[1,2,3],[4,5,6]])"
   ]
  },
  {
   "cell_type": "code",
   "execution_count": 26,
   "id": "7396b633-500b-4f31-bc8b-e41df4cbc4b3",
   "metadata": {},
   "outputs": [
    {
     "data": {
      "text/plain": [
       "array([[1, 2, 3],\n",
       "       [4, 5, 6],\n",
       "       [1, 2, 3],\n",
       "       [4, 5, 6]])"
      ]
     },
     "execution_count": 26,
     "metadata": {},
     "output_type": "execute_result"
    }
   ],
   "source": [
    "np.concatenate([grid ,grid])"
   ]
  },
  {
   "cell_type": "code",
   "execution_count": 27,
   "id": "2c2d2d9f-136b-446e-97f8-f2c6a9a1806a",
   "metadata": {},
   "outputs": [
    {
     "data": {
      "text/plain": [
       "array([[1, 2, 3, 1, 2, 3],\n",
       "       [4, 5, 6, 4, 5, 6]])"
      ]
     },
     "execution_count": 27,
     "metadata": {},
     "output_type": "execute_result"
    }
   ],
   "source": [
    "np.concatenate([grid,grid],axis=1)\n"
   ]
  },
  {
   "cell_type": "code",
   "execution_count": 28,
   "id": "50a48512-0ce0-4498-9fa3-ff116c442403",
   "metadata": {},
   "outputs": [
    {
     "data": {
      "text/plain": [
       "array([[1, 2, 3],\n",
       "       [9, 8, 7],\n",
       "       [6, 5, 4]])"
      ]
     },
     "execution_count": 28,
     "metadata": {},
     "output_type": "execute_result"
    }
   ],
   "source": [
    "x=np.array([1,2,3])\n",
    "grid=np.array([[9,8,7],[6,5,4]])\n",
    "\n",
    "#vertically stack the arrays\n",
    "np.vstack([x,grid])"
   ]
  },
  {
   "cell_type": "code",
   "execution_count": 29,
   "id": "ce8cd69c-29b2-418d-a1b0-643b9d3d18bb",
   "metadata": {},
   "outputs": [
    {
     "data": {
      "text/plain": [
       "array([[ 9,  8,  7, 99],\n",
       "       [ 6,  5,  4, 99]])"
      ]
     },
     "execution_count": 29,
     "metadata": {},
     "output_type": "execute_result"
    }
   ],
   "source": [
    "#horizontally stack the arrays\n",
    "y=np.array([[99],[99]])\n",
    "np.hstack([grid,y])"
   ]
  },
  {
   "cell_type": "code",
   "execution_count": 30,
   "id": "015c73b0-5a84-4237-b6a0-2eedcd708559",
   "metadata": {},
   "outputs": [
    {
     "data": {
      "text/plain": [
       "array([9, 8, 7, 6, 5, 4, 3, 2, 1])"
      ]
     },
     "execution_count": 30,
     "metadata": {},
     "output_type": "execute_result"
    }
   ],
   "source": [
    "arr=np.array([1,2,3,4,5,6,7,8,9])\n",
    "reversed_arr=np.flip(arr)\n",
    "reversed_arr"
   ]
  },
  {
   "cell_type": "code",
   "execution_count": 31,
   "id": "f8e107c6-8163-46f9-8b41-c598c1303e4b",
   "metadata": {},
   "outputs": [
    {
     "data": {
      "text/plain": [
       "array([[9, 8, 7],\n",
       "       [6, 5, 4],\n",
       "       [3, 2, 1]])"
      ]
     },
     "execution_count": 31,
     "metadata": {},
     "output_type": "execute_result"
    }
   ],
   "source": [
    "arr2d=np.array([[1,2,3],[4,5,6],[7,8,9]])\n",
    "reversed_arr2d=np.flip(arr2d)\n",
    "reversed_arr2d"
   ]
  },
  {
   "cell_type": "code",
   "execution_count": 32,
   "id": "5637dd46-71b6-42eb-885c-38fc7cf8cf73",
   "metadata": {},
   "outputs": [
    {
     "data": {
      "text/plain": [
       "array([[7, 8, 9],\n",
       "       [4, 5, 6],\n",
       "       [1, 2, 3]])"
      ]
     },
     "execution_count": 32,
     "metadata": {},
     "output_type": "execute_result"
    }
   ],
   "source": [
    "reversed_arr2d_rows=np.flip(arr2d, axis=0)\n",
    "reversed_arr2d_rows"
   ]
  },
  {
   "cell_type": "code",
   "execution_count": 33,
   "id": "1ef43773-be25-472d-9c1e-92a13fd8441f",
   "metadata": {},
   "outputs": [
    {
     "data": {
      "text/plain": [
       "array([[3, 2, 1],\n",
       "       [6, 5, 4],\n",
       "       [9, 8, 7]])"
      ]
     },
     "execution_count": 33,
     "metadata": {},
     "output_type": "execute_result"
    }
   ],
   "source": [
    "reversed_arr2d_kolom=np.flip(arr2d, axis=1)\n",
    "reversed_arr2d_kolom"
   ]
  },
  {
   "cell_type": "code",
   "execution_count": null,
   "id": "acab8d88-d004-43e0-9d6a-240ff3a06084",
   "metadata": {},
   "outputs": [],
   "source": []
  }
 ],
 "metadata": {
  "kernelspec": {
   "display_name": "Python 3 (ipykernel)",
   "language": "python",
   "name": "python3"
  },
  "language_info": {
   "codemirror_mode": {
    "name": "ipython",
    "version": 3
   },
   "file_extension": ".py",
   "mimetype": "text/x-python",
   "name": "python",
   "nbconvert_exporter": "python",
   "pygments_lexer": "ipython3",
   "version": "3.10.12"
  }
 },
 "nbformat": 4,
 "nbformat_minor": 5
}
